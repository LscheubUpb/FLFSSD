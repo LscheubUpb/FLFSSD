{
 "cells": [
  {
   "cell_type": "code",
   "execution_count": 1,
   "metadata": {},
   "outputs": [],
   "source": [
    "with open('pair.list', 'r') as f:\n",
    "    lines = f.readlines()"
   ]
  },
  {
   "cell_type": "code",
   "execution_count": 2,
   "metadata": {},
   "outputs": [
    {
     "data": {
      "text/plain": [
       "'0 1 1\\n'"
      ]
     },
     "execution_count": 2,
     "metadata": {},
     "output_type": "execute_result"
    }
   ],
   "source": [
    "lines[0]"
   ]
  },
  {
   "cell_type": "code",
   "execution_count": 5,
   "metadata": {},
   "outputs": [],
   "source": [
    "with open('pair_src.txt', 'r') as f:\n",
    "    src_lines = f.readlines()"
   ]
  },
  {
   "cell_type": "code",
   "execution_count": 7,
   "metadata": {
    "scrolled": true
   },
   "outputs": [
    {
     "data": {
      "text/plain": [
       "['Abel_Pacheco', '1', '4']"
      ]
     },
     "execution_count": 7,
     "metadata": {},
     "output_type": "execute_result"
    }
   ],
   "source": [
    "src_lines[1].strip().split('\\t')"
   ]
  },
  {
   "cell_type": "code",
   "execution_count": 8,
   "metadata": {},
   "outputs": [],
   "source": [
    "base_dir = '/face/irving/data/ms1m_eval/lfw/imgs'"
   ]
  },
  {
   "cell_type": "code",
   "execution_count": null,
   "metadata": {},
   "outputs": [],
   "source": [
    "id_imgs = {}\n",
    "id_srcimg_id = {}  # used to check if a image already exists"
   ]
  },
  {
   "cell_type": "code",
   "execution_count": null,
   "metadata": {},
   "outputs": [],
   "source": [
    "for idx in range(6000): # 6000 pairs\n",
    "    line = lines[idx]\n",
    "    src_line = src_lines[idx+1]\n",
    "    parts = line.strip().split('')\n",
    "    src_parts = src_line.strip().split('\\t')\n",
    "    if parts[2] == '1':\n",
    "        if len(src_parts) == 4:\n",
    "            print(i, line, src_line)\n",
    "            exit(1)\n",
    "        id0, img_id0, img_id1 = src_parts\n",
    "        img0, img1 = ['{}/{}.jpg'.format(base_dir,i) for i in parts[0:2]]\n",
    "    else:\n",
    "        if len(src_parts) == 3:\n",
    "            print(i, line, src_line)\n",
    "            exit(1)       \n",
    "        id0, img_id0, id1, img_id1 = src_parts\n",
    "        \n",
    "        "
   ]
  }
 ],
 "metadata": {
  "kernelspec": {
   "display_name": "Python 3",
   "language": "python",
   "name": "python3"
  },
  "language_info": {
   "codemirror_mode": {
    "name": "ipython",
    "version": 3
   },
   "file_extension": ".py",
   "mimetype": "text/x-python",
   "name": "python",
   "nbconvert_exporter": "python",
   "pygments_lexer": "ipython3",
   "version": "3.6.8"
  }
 },
 "nbformat": 4,
 "nbformat_minor": 2
}
